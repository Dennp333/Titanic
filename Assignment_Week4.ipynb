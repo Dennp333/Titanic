{
  "nbformat": 4,
  "nbformat_minor": 0,
  "metadata": {
    "colab": {
      "name": "Assignment_Week4.ipynb",
      "provenance": [],
      "collapsed_sections": []
    },
    "kernelspec": {
      "name": "python3",
      "display_name": "Python 3"
    },
    "language_info": {
      "name": "python"
    }
  },
  "cells": [
    {
      "cell_type": "markdown",
      "metadata": {
        "id": "YhuymJldwQq8"
      },
      "source": [
        "## MLBootcamp21 Week 4 Assignment: Gridsearch and CrossValidation\n",
        "- This week we will focus on improving our existing models using these two techniques\n",
        "- They are good approaches to improving your model's performance apart from feature engineering"
      ]
    },
    {
      "cell_type": "markdown",
      "metadata": {
        "id": "MtQ2vhXkwptR"
      },
      "source": [
        "## Q1. Use GridSearchCV and also explore other GridSearch techniques provided by scikit-learn to tune your hyperparameters and obtain the best model\n",
        "\n",
        "- Try out Decision Trees, Random Forest, GradientBoost, AdaBoost and also XGBoost \n",
        "- Run the model on the features you have generated until now without tuning the parameters first to check the result on basic parameters\n",
        "- Then apply GridSearchCV or other GridSearch techniques provided by scikit-learn to tune the hyperparameters and get results on the best model\n",
        "\n",
        "## Keep the \"random_state\" number as 42 or anynumber of your choice and report that number for me to be able to reproduce the same results\n",
        "\n",
        "- Report your performance on the test set after making the submission on kaggle. \n",
        "\n",
        "- ****Do not use some random existing notebook on Kaggle to get the best results as you will not learn anything that way and we will be able to easily know if that has been done. Do whatever you can****"
      ]
    },
    {
      "cell_type": "code",
      "metadata": {
        "id": "MmFiP4zSwo5X"
      },
      "source": [
        "# Write your code from this cell\n",
        "# It need not be in a single cell\n",
        "import pandas as pd\n",
        "import re\n",
        "from sklearn.linear_model import LogisticRegression\n",
        "from sklearn.preprocessing import StandardScaler\n",
        "import numpy as np\n",
        "from sklearn.ensemble import RandomForestClassifier, GradientBoostingClassifier, AdaBoostClassifier\n",
        "from sklearn.tree import DecisionTreeClassifier\n",
        "import xgboost as xgb\n",
        "from sklearn.model_selection import GridSearchCV"
      ],
      "execution_count": null,
      "outputs": []
    },
    {
      "cell_type": "code",
      "metadata": {
        "id": "AuRodbNZ3GpV"
      },
      "source": [
        "# Feature engineering\n",
        "df = pd.read_csv('./train.csv')\n",
        "df['Mrs'] = df['Name'].apply(lambda x: 1 if 'Mrs.' in x else 0)\n",
        "df['Sex_Category'] = df['Sex'].apply(lambda x: 1 if x == 'female' else 0)\n",
        "ageScalar = StandardScaler()\n",
        "fareScaler = StandardScaler()\n",
        "df['Age_Normalized'] = ageScalar.fit_transform(np.array(df['Age']).reshape(-1, 1))\n",
        "df['Fare_Normalized'] = fareScaler.fit_transform(np.array(df['Fare']).reshape(-1, 1))\n",
        "# df.head()"
      ],
      "execution_count": null,
      "outputs": []
    },
    {
      "cell_type": "code",
      "metadata": {
        "colab": {
          "base_uri": "https://localhost:8080/",
          "height": 206
        },
        "id": "3-SpDGWB3sfR",
        "outputId": "c29089df-45a6-4575-c6d0-66b6a0a5c19a"
      },
      "source": [
        "# Drop features\n",
        "drop_features = ['Name', 'Sex', 'Age', 'Ticket', 'Cabin', 'Fare', 'Embarked']\n",
        "df.drop(drop_features, inplace=True, axis=1)\n",
        "# df.head()"
      ],
      "execution_count": null,
      "outputs": [
        {
          "output_type": "execute_result",
          "data": {
            "text/html": [
              "<div>\n",
              "<style scoped>\n",
              "    .dataframe tbody tr th:only-of-type {\n",
              "        vertical-align: middle;\n",
              "    }\n",
              "\n",
              "    .dataframe tbody tr th {\n",
              "        vertical-align: top;\n",
              "    }\n",
              "\n",
              "    .dataframe thead th {\n",
              "        text-align: right;\n",
              "    }\n",
              "</style>\n",
              "<table border=\"1\" class=\"dataframe\">\n",
              "  <thead>\n",
              "    <tr style=\"text-align: right;\">\n",
              "      <th></th>\n",
              "      <th>PassengerId</th>\n",
              "      <th>Survived</th>\n",
              "      <th>Pclass</th>\n",
              "      <th>SibSp</th>\n",
              "      <th>Parch</th>\n",
              "      <th>Mrs</th>\n",
              "      <th>Sex_Category</th>\n",
              "      <th>Age_Normalized</th>\n",
              "      <th>Fare_Normalized</th>\n",
              "    </tr>\n",
              "  </thead>\n",
              "  <tbody>\n",
              "    <tr>\n",
              "      <th>0</th>\n",
              "      <td>1</td>\n",
              "      <td>0</td>\n",
              "      <td>3</td>\n",
              "      <td>1</td>\n",
              "      <td>0</td>\n",
              "      <td>0</td>\n",
              "      <td>0</td>\n",
              "      <td>-0.530377</td>\n",
              "      <td>-0.502445</td>\n",
              "    </tr>\n",
              "    <tr>\n",
              "      <th>1</th>\n",
              "      <td>2</td>\n",
              "      <td>1</td>\n",
              "      <td>1</td>\n",
              "      <td>1</td>\n",
              "      <td>0</td>\n",
              "      <td>1</td>\n",
              "      <td>1</td>\n",
              "      <td>0.571831</td>\n",
              "      <td>0.786845</td>\n",
              "    </tr>\n",
              "    <tr>\n",
              "      <th>2</th>\n",
              "      <td>3</td>\n",
              "      <td>1</td>\n",
              "      <td>3</td>\n",
              "      <td>0</td>\n",
              "      <td>0</td>\n",
              "      <td>0</td>\n",
              "      <td>1</td>\n",
              "      <td>-0.254825</td>\n",
              "      <td>-0.488854</td>\n",
              "    </tr>\n",
              "    <tr>\n",
              "      <th>3</th>\n",
              "      <td>4</td>\n",
              "      <td>1</td>\n",
              "      <td>1</td>\n",
              "      <td>1</td>\n",
              "      <td>0</td>\n",
              "      <td>1</td>\n",
              "      <td>1</td>\n",
              "      <td>0.365167</td>\n",
              "      <td>0.420730</td>\n",
              "    </tr>\n",
              "    <tr>\n",
              "      <th>4</th>\n",
              "      <td>5</td>\n",
              "      <td>0</td>\n",
              "      <td>3</td>\n",
              "      <td>0</td>\n",
              "      <td>0</td>\n",
              "      <td>0</td>\n",
              "      <td>0</td>\n",
              "      <td>0.365167</td>\n",
              "      <td>-0.486337</td>\n",
              "    </tr>\n",
              "  </tbody>\n",
              "</table>\n",
              "</div>"
            ],
            "text/plain": [
              "   PassengerId  Survived  Pclass  ...  Sex_Category  Age_Normalized  Fare_Normalized\n",
              "0            1         0       3  ...             0       -0.530377        -0.502445\n",
              "1            2         1       1  ...             1        0.571831         0.786845\n",
              "2            3         1       3  ...             1       -0.254825        -0.488854\n",
              "3            4         1       1  ...             1        0.365167         0.420730\n",
              "4            5         0       3  ...             0        0.365167        -0.486337\n",
              "\n",
              "[5 rows x 9 columns]"
            ]
          },
          "metadata": {
            "tags": []
          },
          "execution_count": 5
        }
      ]
    },
    {
      "cell_type": "code",
      "metadata": {
        "id": "S8nYcehm4IYa"
      },
      "source": [
        "# Drop missing values\n",
        "df.dropna(inplace = True)\n",
        "# df.isnull().sum()"
      ],
      "execution_count": null,
      "outputs": []
    },
    {
      "cell_type": "code",
      "metadata": {
        "id": "1-ZVpXM25rk4"
      },
      "source": [
        "# Do the same for test dataset\n",
        "df_test = pd.read_csv('./test.csv')\n",
        "df_test['Mrs'] = df_test['Name'].apply(lambda x: 1 if 'Mrs.' in x else 0)\n",
        "df_test['Sex_Category'] = df_test['Sex'].apply(lambda x: 1 if x == 'female' else 0)\n",
        "ageScalar = StandardScaler()\n",
        "fareScaler = StandardScaler()\n",
        "df_test['Age_Normalized'] = ageScalar.fit_transform(np.array(df_test['Age']).reshape(-1, 1))\n",
        "df_test['Fare_Normalized'] = fareScaler.fit_transform(np.array(df_test['Fare']).reshape(-1, 1))\n",
        "drop_features = ['Name', 'Sex', 'Age', 'Ticket', 'Cabin', 'Fare', 'Embarked']\n",
        "df_test.drop(drop_features, inplace=True, axis=1)\n",
        "df_test.fillna(method = 'ffill', inplace = True)\n",
        "# df.isnull().sum()\n",
        "x_test = df_test.loc[:, 'Pclass':]\n",
        "# x_test"
      ],
      "execution_count": null,
      "outputs": []
    },
    {
      "cell_type": "code",
      "metadata": {
        "id": "gu3GZVdD4jrr"
      },
      "source": [
        "# Get x and y train\n",
        "x_train = df.loc[:, 'Pclass':]\n",
        "y_train = df.Survived"
      ],
      "execution_count": null,
      "outputs": []
    },
    {
      "cell_type": "code",
      "metadata": {
        "colab": {
          "base_uri": "https://localhost:8080/"
        },
        "id": "WLv4y9DS6ruB",
        "outputId": "59c6244f-db21-4a21-81a6-d20ade98c0cf"
      },
      "source": [
        "# Decision Tree\n",
        "model = DecisionTreeClassifier()\n",
        "model.fit(x_train,y_train)\n",
        "# result = 0.69377"
      ],
      "execution_count": null,
      "outputs": [
        {
          "output_type": "execute_result",
          "data": {
            "text/plain": [
              "DecisionTreeClassifier(ccp_alpha=0.0, class_weight=None, criterion='gini',\n",
              "                       max_depth=None, max_features=None, max_leaf_nodes=None,\n",
              "                       min_impurity_decrease=0.0, min_impurity_split=None,\n",
              "                       min_samples_leaf=1, min_samples_split=2,\n",
              "                       min_weight_fraction_leaf=0.0, presort='deprecated',\n",
              "                       random_state=None, splitter='best')"
            ]
          },
          "metadata": {
            "tags": []
          },
          "execution_count": 12
        }
      ]
    },
    {
      "cell_type": "code",
      "metadata": {
        "colab": {
          "base_uri": "https://localhost:8080/"
        },
        "id": "yxTcnWZi89ag",
        "outputId": "dfb19554-2c6b-4194-8122-8b041d8964b8"
      },
      "source": [
        "# Random Forrest\n",
        "model = RandomForestClassifier()\n",
        "model.fit(x_train,y_train)\n",
        "# result = 0.74641"
      ],
      "execution_count": null,
      "outputs": [
        {
          "output_type": "execute_result",
          "data": {
            "text/plain": [
              "RandomForestClassifier(bootstrap=True, ccp_alpha=0.0, class_weight=None,\n",
              "                       criterion='gini', max_depth=None, max_features='auto',\n",
              "                       max_leaf_nodes=None, max_samples=None,\n",
              "                       min_impurity_decrease=0.0, min_impurity_split=None,\n",
              "                       min_samples_leaf=1, min_samples_split=2,\n",
              "                       min_weight_fraction_leaf=0.0, n_estimators=100,\n",
              "                       n_jobs=None, oob_score=False, random_state=None,\n",
              "                       verbose=0, warm_start=False)"
            ]
          },
          "metadata": {
            "tags": []
          },
          "execution_count": 14
        }
      ]
    },
    {
      "cell_type": "code",
      "metadata": {
        "colab": {
          "base_uri": "https://localhost:8080/"
        },
        "id": "CpijNhLO9bQw",
        "outputId": "33a4411a-3c11-4b99-ddc6-5136f8394f7e"
      },
      "source": [
        "# Gradient Boost\n",
        "model = GradientBoostingClassifier()\n",
        "model.fit(x_train, y_train)\n",
        "# result = 0.76076"
      ],
      "execution_count": null,
      "outputs": [
        {
          "output_type": "execute_result",
          "data": {
            "text/plain": [
              "GradientBoostingClassifier(ccp_alpha=0.0, criterion='friedman_mse', init=None,\n",
              "                           learning_rate=0.1, loss='deviance', max_depth=3,\n",
              "                           max_features=None, max_leaf_nodes=None,\n",
              "                           min_impurity_decrease=0.0, min_impurity_split=None,\n",
              "                           min_samples_leaf=1, min_samples_split=2,\n",
              "                           min_weight_fraction_leaf=0.0, n_estimators=100,\n",
              "                           n_iter_no_change=None, presort='deprecated',\n",
              "                           random_state=None, subsample=1.0, tol=0.0001,\n",
              "                           validation_fraction=0.1, verbose=0,\n",
              "                           warm_start=False)"
            ]
          },
          "metadata": {
            "tags": []
          },
          "execution_count": 16
        }
      ]
    },
    {
      "cell_type": "code",
      "metadata": {
        "id": "4WFWn0r8-B6r"
      },
      "source": [
        "# XGBoost\n"
      ],
      "execution_count": null,
      "outputs": []
    },
    {
      "cell_type": "code",
      "metadata": {
        "colab": {
          "base_uri": "https://localhost:8080/"
        },
        "id": "wT21Y8FY_aM_",
        "outputId": "388daddd-10e1-451f-b8f8-03fc0701e29b"
      },
      "source": [
        "# Adaboost\n",
        "model = AdaBoostClassifier()\n",
        "model.fit(x_train, y_train)\n",
        "# result = 0.72488"
      ],
      "execution_count": null,
      "outputs": [
        {
          "output_type": "execute_result",
          "data": {
            "text/plain": [
              "AdaBoostClassifier(algorithm='SAMME.R', base_estimator=None, learning_rate=1.0,\n",
              "                   n_estimators=50, random_state=None)"
            ]
          },
          "metadata": {
            "tags": []
          },
          "execution_count": 22
        }
      ]
    },
    {
      "cell_type": "code",
      "metadata": {
        "colab": {
          "base_uri": "https://localhost:8080/"
        },
        "id": "eSoMJKI8Az3S",
        "outputId": "7626b519-b244-4c09-f049-b3f24b2c7968"
      },
      "source": [
        "# GridSearch CV with Gradient Boost\n",
        "parameter_grid = {\n",
        "    'criterion': ['friedman_mse', 'mse', 'mae'],\n",
        "    'n_estimators': [100, 150, 200],\n",
        "    'max_features': ['auto', 'sqrt', 'log2', None],\n",
        "    'max_leaf_nodes': [5, 10, None],\n",
        "    'learning_rate': [0.1, 0.15, 0.2],\n",
        "    'loss': ['deviance', 'exponential'],\n",
        "    'warm_start': [True, False]\n",
        "}\n",
        "model = GridSearchCV(cv = 5, estimator = GradientBoostingClassifier(), \n",
        "                     param_grid = parameter_grid)\n",
        "model.fit(x_train, y_train)"
      ],
      "execution_count": null,
      "outputs": [
        {
          "output_type": "execute_result",
          "data": {
            "text/plain": [
              "GridSearchCV(cv=5, error_score=nan,\n",
              "             estimator=GradientBoostingClassifier(ccp_alpha=0.0,\n",
              "                                                  criterion='friedman_mse',\n",
              "                                                  init=None, learning_rate=0.1,\n",
              "                                                  loss='deviance', max_depth=3,\n",
              "                                                  max_features=None,\n",
              "                                                  max_leaf_nodes=None,\n",
              "                                                  min_impurity_decrease=0.0,\n",
              "                                                  min_impurity_split=None,\n",
              "                                                  min_samples_leaf=1,\n",
              "                                                  min_samples_split=2,\n",
              "                                                  min_weight_fraction_leaf=0.0,\n",
              "                                                  n_estimators=100,\n",
              "                                                  n_iter_no_c...\n",
              "             iid='deprecated', n_jobs=None,\n",
              "             param_grid={'criterion': ['friedman_mse', 'mse', 'mae'],\n",
              "                         'learning_rate': [0.1, 0.15, 0.2],\n",
              "                         'loss': ['deviance', 'exponential'],\n",
              "                         'max_features': ['auto', 'sqrt', 'log2', None],\n",
              "                         'max_leaf_nodes': [5, 10, None],\n",
              "                         'n_estimators': [100, 150, 200],\n",
              "                         'warm_start': [True, False]},\n",
              "             pre_dispatch='2*n_jobs', refit=True, return_train_score=False,\n",
              "             scoring=None, verbose=0)"
            ]
          },
          "metadata": {
            "tags": []
          },
          "execution_count": 37
        }
      ]
    },
    {
      "cell_type": "code",
      "metadata": {
        "colab": {
          "base_uri": "https://localhost:8080/"
        },
        "id": "pY1mogOiJHQ4",
        "outputId": "959a8f10-deee-4108-99ee-fb2b4395edf9"
      },
      "source": [
        "model.best_params_"
      ],
      "execution_count": null,
      "outputs": [
        {
          "output_type": "execute_result",
          "data": {
            "text/plain": [
              "{'criterion': 'friedman_mse',\n",
              " 'learning_rate': 0.15,\n",
              " 'loss': 'deviance',\n",
              " 'max_features': 'log2',\n",
              " 'max_leaf_nodes': None,\n",
              " 'n_estimators': 150,\n",
              " 'warm_start': False}"
            ]
          },
          "metadata": {
            "tags": []
          },
          "execution_count": 38
        }
      ]
    },
    {
      "cell_type": "code",
      "metadata": {
        "colab": {
          "base_uri": "https://localhost:8080/"
        },
        "id": "ZMNCmMowPHw-",
        "outputId": "891dcf45-58ff-4af8-8247-f86868a9dc9f"
      },
      "source": [
        "# Gradient boost with tuned parameters\n",
        "model_tuned = GradientBoostingClassifier(criterion = 'friedman_mse', max_features = 'auto', max_leaf_nodes = 10, n_estimators = 150,\n",
        "                                         random_state = 42)\n",
        "model_tuned.fit(x_train, y_train)\n",
        "# result: 0.76555"
      ],
      "execution_count": null,
      "outputs": [
        {
          "output_type": "execute_result",
          "data": {
            "text/plain": [
              "GradientBoostingClassifier(ccp_alpha=0.0, criterion='friedman_mse', init=None,\n",
              "                           learning_rate=0.2, loss='exponential', max_depth=3,\n",
              "                           max_features='auto', max_leaf_nodes=10,\n",
              "                           min_impurity_decrease=0.0, min_impurity_split=None,\n",
              "                           min_samples_leaf=1, min_samples_split=2,\n",
              "                           min_weight_fraction_leaf=0.0, n_estimators=150,\n",
              "                           n_iter_no_change=None, presort='deprecated',\n",
              "                           random_state=42, subsample=1, tol=0.0001,\n",
              "                           validation_fraction=0.1, verbose=0, warm_start=True)"
            ]
          },
          "metadata": {
            "tags": []
          },
          "execution_count": 34
        }
      ]
    },
    {
      "cell_type": "code",
      "metadata": {
        "id": "s2M6bnEEQ8OR"
      },
      "source": [
        "# Try again\n",
        "model_tuned = GradientBoostingClassifier(criterion = 'friedman_mse', max_features = 'auto', max_leaf_nodes = 10, n_estimators = 150,\n",
        "                                         random_state = 42, learning_rate = 0.2, loss = 'exponential', subsample = 1, warm_start = True)\n",
        "model_tuned.fit(x_train, y_train)\n",
        "# result: 0.75598"
      ],
      "execution_count": null,
      "outputs": []
    },
    {
      "cell_type": "code",
      "metadata": {
        "colab": {
          "base_uri": "https://localhost:8080/"
        },
        "id": "6CQiP-YgSStm",
        "outputId": "dfd1ec0c-0aa4-4ab2-806d-061acc95a5c0"
      },
      "source": [
        "# One more time\n",
        "model_tuned = GradientBoostingClassifier(criterion = 'friedman_mse', max_features = 'log2', max_leaf_nodes = None, n_estimators = 150,\n",
        "                                         random_state = 42, learning_rate = 0.15, loss = 'deviance', warm_start = False)\n",
        "model_tuned.fit(x_train, y_train)\n",
        "# result: 0.75358"
      ],
      "execution_count": null,
      "outputs": [
        {
          "output_type": "execute_result",
          "data": {
            "text/plain": [
              "GradientBoostingClassifier(ccp_alpha=0.0, criterion='friedman_mse', init=None,\n",
              "                           learning_rate=0.15, loss='deviance', max_depth=3,\n",
              "                           max_features='log2', max_leaf_nodes=None,\n",
              "                           min_impurity_decrease=0.0, min_impurity_split=None,\n",
              "                           min_samples_leaf=1, min_samples_split=2,\n",
              "                           min_weight_fraction_leaf=0.0, n_estimators=150,\n",
              "                           n_iter_no_change=None, presort='deprecated',\n",
              "                           random_state=None, subsample=1.0, tol=0.0001,\n",
              "                           validation_fraction=0.1, verbose=0,\n",
              "                           warm_start=False)"
            ]
          },
          "metadata": {
            "tags": []
          },
          "execution_count": 41
        }
      ]
    },
    {
      "cell_type": "code",
      "metadata": {
        "id": "jwFGLdND7dWQ"
      },
      "source": [
        "# For submission. Name the chosen model as simply \"model\"\n",
        "submission = model.predict(x_test)\n",
        "df_submission = df_test[['PassengerId']].copy()\n",
        "df_submission['Survived'] = submission\n",
        "df_submission.to_csv('submission.csv')"
      ],
      "execution_count": null,
      "outputs": []
    },
    {
      "cell_type": "code",
      "metadata": {
        "id": "ChaFhjfOPrwL"
      },
      "source": [
        "# For tuned submissions. Name the chosen model as \"model_tuned\"\n",
        "submission = model_tuned.predict(x_test)\n",
        "df_submission = df_test[['PassengerId']].copy()\n",
        "df_submission['Survived'] = submission\n",
        "df_submission.to_csv('submission_tuned.csv')"
      ],
      "execution_count": null,
      "outputs": []
    },
    {
      "cell_type": "markdown",
      "metadata": {
        "id": "UsaWJAYUQdi-"
      },
      "source": [
        "Best Result: 0.7655, random_state = 42"
      ]
    },
    {
      "cell_type": "markdown",
      "metadata": {
        "id": "Hfx1tUtmykXK"
      },
      "source": [
        "## Q2. There might be times when you would only like to do K-Fold Cross Validation and not run the time consuming GridSearch everytime. That is what you will be doing in this question. \n",
        "\n",
        "- Read the documention for K-Fold crossvalidation provided by scikit-learn here: https://scikit-learn.org/stable/modules/generated/sklearn.model_selection.KFold.html\n",
        "\n",
        "- Try to understand and run the code provided by scikit-learn. Basically this function provided by scikit-learn will split your dataset into the \"K\" folds and will give you the indices of the \"K\" folds\n",
        "\n",
        "- Then use the K-Fold crossvalidation technique to generate the \"K\" folds and report the accuracy obtained for each of the \"K\" folds\n",
        "\n",
        "- You should get \"K\" different accuracy values and then finally take the average of all the \"K\" accuracies which would be your final model performance\n",
        "\n",
        "- This exercise will help you really understand K-Fold CrossValidation"
      ]
    },
    {
      "cell_type": "code",
      "metadata": {
        "id": "Lp7w1n-DyjpI"
      },
      "source": [
        "## Write your code from here"
      ],
      "execution_count": null,
      "outputs": []
    },
    {
      "cell_type": "code",
      "metadata": {
        "id": "XP1FogY_zrTk"
      },
      "source": [
        "## Thats it for this week. There are only two questions but they are a bit time consuming so enjoy! I hope you reach atleast 85-90% on Kaggle before tapping into Deep Learning"
      ],
      "execution_count": null,
      "outputs": []
    }
  ]
}